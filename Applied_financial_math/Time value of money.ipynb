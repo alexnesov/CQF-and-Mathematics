{
 "cells": [
  {
   "cell_type": "markdown",
   "metadata": {},
   "source": [
    "### Discrete models"
   ]
  },
  {
   "cell_type": "code",
   "execution_count": 6,
   "metadata": {},
   "outputs": [
    {
     "data": {
      "text/latex": [
       "$\\displaystyle x (1+r)^n$"
      ],
      "text/plain": [
       "<IPython.core.display.Math object>"
      ]
     },
     "metadata": {},
     "output_type": "display_data"
    },
    {
     "data": {
      "text/latex": [
       "$\\displaystyle r:  \\text{interest rate   (0.05 for 5%)}$"
      ],
      "text/plain": [
       "<IPython.core.display.Math object>"
      ]
     },
     "metadata": {},
     "output_type": "display_data"
    },
    {
     "data": {
      "text/latex": [
       "$\\displaystyle n:  \\text{number of years}$"
      ],
      "text/plain": [
       "<IPython.core.display.Math object>"
      ]
     },
     "metadata": {},
     "output_type": "display_data"
    }
   ],
   "source": [
    "from IPython.display import Math, display\n",
    "\n",
    "# Let's start with the very basics\n",
    "display(Math('x (1+r)^n'))\n",
    "display(Math('r:  \\\\text{interest rate   (0.05 for 5%)}'))\n",
    "display(Math('n:  \\\\text{number of years}'))"
   ]
  },
  {
   "cell_type": "markdown",
   "metadata": {},
   "source": [
    "Future Value (FV): value of a current asset at a specified date in the future based on an assumed rate of growth over time."
   ]
  },
  {
   "cell_type": "code",
   "execution_count": 11,
   "metadata": {},
   "outputs": [
    {
     "data": {
      "text/latex": [
       "$\\displaystyle \\frac{x}{(1+r)^n}$"
      ],
      "text/plain": [
       "<IPython.core.display.Math object>"
      ]
     },
     "metadata": {},
     "output_type": "display_data"
    },
    {
     "data": {
      "text/latex": [
       "$\\displaystyle r:  \\text{interest rate   (0.05 for 5%)}$"
      ],
      "text/plain": [
       "<IPython.core.display.Math object>"
      ]
     },
     "metadata": {},
     "output_type": "display_data"
    },
    {
     "data": {
      "text/latex": [
       "$\\displaystyle x:  \\text{cash flow in the future}$"
      ],
      "text/plain": [
       "<IPython.core.display.Math object>"
      ]
     },
     "metadata": {},
     "output_type": "display_data"
    },
    {
     "data": {
      "text/latex": [
       "$\\displaystyle n:  \\text{number of years}$"
      ],
      "text/plain": [
       "<IPython.core.display.Math object>"
      ]
     },
     "metadata": {},
     "output_type": "display_data"
    }
   ],
   "source": [
    "display(Math('\\\\frac{x}{(1+r)^n}'))\n",
    "display(Math('r:  \\\\text{interest rate   (0.05 for 5%)}'))\n",
    "display(Math('x:  \\\\text{cash flow in the future}'))\n",
    "display(Math('n:  \\\\text{number of years}'))"
   ]
  },
  {
   "cell_type": "markdown",
   "metadata": {},
   "source": [
    "Present Value (PV): defines how much a future sum of money is worth today given a specified rate of interest."
   ]
  },
  {
   "cell_type": "markdown",
   "metadata": {},
   "source": [
    "### Continuous models"
   ]
  },
  {
   "cell_type": "markdown",
   "metadata": {},
   "source": [
    "For a contonious model we need some differential equations.\n",
    "Suppose we have amount **x(t)** in the bank in time <b>t</b>. How much dpes this increase in value from one daw to the next?"
   ]
  },
  {
   "cell_type": "code",
   "execution_count": 26,
   "metadata": {},
   "outputs": [
    {
     "data": {
      "text/latex": [
       "$\\displaystyle \\frac{dx(t)}{dt}dt = rx(t)dt$"
      ],
      "text/plain": [
       "<IPython.core.display.Math object>"
      ]
     },
     "metadata": {},
     "output_type": "display_data"
    },
    {
     "data": {
      "text/latex": [
       "$\\displaystyle \\text{This being a Taylor expansion or the definition of derivatives}$"
      ],
      "text/plain": [
       "<IPython.core.display.Math object>"
      ]
     },
     "metadata": {},
     "output_type": "display_data"
    },
    {
     "data": {
      "text/latex": [
       "$\\displaystyle \\text{Solution is: } x(t) = x(0)e^{rt}$"
      ],
      "text/plain": [
       "<IPython.core.display.Math object>"
      ]
     },
     "metadata": {},
     "output_type": "display_data"
    }
   ],
   "source": [
    "display(Math('\\\\frac{dx(t)}{dt}dt = rx(t)dt'))\n",
    "display(Math('\\\\text{This being a Taylor expansion or the definition of derivatives}'))\n",
    "display(Math('\\\\text{Solution is: } x(t) = x(0)e^{rt}'))"
   ]
  },
  {
   "cell_type": "markdown",
   "metadata": {},
   "source": [
    "### Python code implementation"
   ]
  },
  {
   "cell_type": "code",
   "execution_count": 28,
   "metadata": {},
   "outputs": [],
   "source": [
    "from math import exp"
   ]
  },
  {
   "cell_type": "code",
   "execution_count": 32,
   "metadata": {},
   "outputs": [
    {
     "name": "stdout",
     "output_type": "stream",
     "text": [
      "Future values (discrete) of x: 127.62815625000003\n",
      "Present values (discrete) of x: 78.35261664684589\n",
      "Future values of x: 128.40254166877415\n",
      "Present values of x: 77.8800783071405\n"
     ]
    }
   ],
   "source": [
    "def future_discrete_value(x, r, n):\n",
    "    return x*(1+r)**n\n",
    "\n",
    "def present_discrete_value(x, r, n):\n",
    "    return x*(1+r)**-n\n",
    "\n",
    "\n",
    "def future_continuous_value(x, r, t):\n",
    "    return x*exp(r*t)\n",
    "\n",
    "\n",
    "def present_continuous_value(x, r, t):\n",
    "    return x*exp(-r*t)\n",
    "\n",
    "\n",
    "# Value of investment in dollars\n",
    "x = 100\n",
    "# Define the interest rate (r)\n",
    "r = 0.05\n",
    "# duration (years)\n",
    "n = 5\n",
    "\n",
    "print(\"Future values (discrete) of x: %s\" % future_discrete_value(x, r, n))\n",
    "print(\"Present values (discrete) of x: %s\" % present_discrete_value(x, r, n))\n",
    "print(\"Future values of x: %s\" % future_continuous_value(x, r, n))\n",
    "print(\"Present values of x: %s\" % present_continuous_value(x, r, n))\n"
   ]
  },
  {
   "cell_type": "code",
   "execution_count": null,
   "metadata": {},
   "outputs": [],
   "source": []
  }
 ],
 "metadata": {
  "kernelspec": {
   "display_name": "Python 3.8.10 64-bit",
   "language": "python",
   "name": "python3810jvsc74a57bd0e7370f93d1d0cde622a1f8e1c04877d8463912d04d973331ad4851f04de6915a"
  },
  "language_info": {
   "codemirror_mode": {
    "name": "ipython",
    "version": 3
   },
   "file_extension": ".py",
   "mimetype": "text/x-python",
   "name": "python",
   "nbconvert_exporter": "python",
   "pygments_lexer": "ipython3",
   "version": "3.8.10"
  }
 },
 "nbformat": 4,
 "nbformat_minor": 4
}
