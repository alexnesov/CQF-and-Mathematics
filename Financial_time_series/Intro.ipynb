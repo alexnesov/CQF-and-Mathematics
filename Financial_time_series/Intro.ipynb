{
 "cells": [
  {
   "cell_type": "code",
   "execution_count": 1,
   "metadata": {},
   "outputs": [],
   "source": [
    "import pandas as pd\n",
    "import numpy as np\n",
    "import pandas_datareader as pdr\n",
    "import yfinance as yf"
   ]
  },
  {
   "cell_type": "code",
   "execution_count": 2,
   "metadata": {},
   "outputs": [
    {
     "data": {
      "text/html": [
       "        <script type=\"text/javascript\">\n",
       "        window.PlotlyConfig = {MathJaxConfig: 'local'};\n",
       "        if (window.MathJax) {MathJax.Hub.Config({SVG: {font: \"STIX-Web\"}});}\n",
       "        if (typeof require !== 'undefined') {\n",
       "        require.undef(\"plotly\");\n",
       "        requirejs.config({\n",
       "            paths: {\n",
       "                'plotly': ['https://cdn.plot.ly/plotly-latest.min']\n",
       "            }\n",
       "        });\n",
       "        require(['plotly'], function(Plotly) {\n",
       "            window._Plotly = Plotly;\n",
       "        });\n",
       "        }\n",
       "        </script>\n",
       "        "
      ]
     },
     "metadata": {},
     "output_type": "display_data"
    },
    {
     "data": {
      "text/html": [
       "        <script type=\"text/javascript\">\n",
       "        window.PlotlyConfig = {MathJaxConfig: 'local'};\n",
       "        if (window.MathJax) {MathJax.Hub.Config({SVG: {font: \"STIX-Web\"}});}\n",
       "        if (typeof require !== 'undefined') {\n",
       "        require.undef(\"plotly\");\n",
       "        requirejs.config({\n",
       "            paths: {\n",
       "                'plotly': ['https://cdn.plot.ly/plotly-latest.min']\n",
       "            }\n",
       "        });\n",
       "        require(['plotly'], function(Plotly) {\n",
       "            window._Plotly = Plotly;\n",
       "        });\n",
       "        }\n",
       "        </script>\n",
       "        "
      ]
     },
     "metadata": {},
     "output_type": "display_data"
    }
   ],
   "source": [
    "import cufflinks as cf\n",
    "cf.set_config_file(offline=True)\n",
    "import warnings \n",
    "warnings.filterwarnings('ignore')"
   ]
  },
  {
   "cell_type": "code",
   "execution_count": 7,
   "metadata": {},
   "outputs": [],
   "source": [
    "df1 = yf.download('SPY', period='5d', progress=False)"
   ]
  },
  {
   "cell_type": "code",
   "execution_count": 6,
   "metadata": {},
   "outputs": [
    {
     "data": {
      "text/html": [
       "<div>\n",
       "<style scoped>\n",
       "    .dataframe tbody tr th:only-of-type {\n",
       "        vertical-align: middle;\n",
       "    }\n",
       "\n",
       "    .dataframe tbody tr th {\n",
       "        vertical-align: top;\n",
       "    }\n",
       "\n",
       "    .dataframe thead th {\n",
       "        text-align: right;\n",
       "    }\n",
       "</style>\n",
       "<table border=\"1\" class=\"dataframe\">\n",
       "  <thead>\n",
       "    <tr style=\"text-align: right;\">\n",
       "      <th></th>\n",
       "      <th>Open</th>\n",
       "      <th>High</th>\n",
       "      <th>Low</th>\n",
       "      <th>Close</th>\n",
       "      <th>Adj Close</th>\n",
       "      <th>Volume</th>\n",
       "    </tr>\n",
       "    <tr>\n",
       "      <th>Date</th>\n",
       "      <th></th>\n",
       "      <th></th>\n",
       "      <th></th>\n",
       "      <th></th>\n",
       "      <th></th>\n",
       "      <th></th>\n",
       "    </tr>\n",
       "  </thead>\n",
       "  <tbody>\n",
       "    <tr>\n",
       "      <th>2021-02-02</th>\n",
       "      <td>379.649994</td>\n",
       "      <td>383.220001</td>\n",
       "      <td>376.320007</td>\n",
       "      <td>381.549988</td>\n",
       "      <td>381.549988</td>\n",
       "      <td>64450700</td>\n",
       "    </tr>\n",
       "    <tr>\n",
       "      <th>2021-02-03</th>\n",
       "      <td>382.440002</td>\n",
       "      <td>383.700012</td>\n",
       "      <td>380.480011</td>\n",
       "      <td>381.850006</td>\n",
       "      <td>381.850006</td>\n",
       "      <td>52427100</td>\n",
       "    </tr>\n",
       "    <tr>\n",
       "      <th>2021-02-04</th>\n",
       "      <td>382.959991</td>\n",
       "      <td>386.239990</td>\n",
       "      <td>381.970001</td>\n",
       "      <td>386.190002</td>\n",
       "      <td>386.190002</td>\n",
       "      <td>47142600</td>\n",
       "    </tr>\n",
       "    <tr>\n",
       "      <th>2021-02-05</th>\n",
       "      <td>388.200012</td>\n",
       "      <td>388.470001</td>\n",
       "      <td>386.140015</td>\n",
       "      <td>387.709991</td>\n",
       "      <td>387.709991</td>\n",
       "      <td>48620300</td>\n",
       "    </tr>\n",
       "    <tr>\n",
       "      <th>2021-02-08</th>\n",
       "      <td>389.269989</td>\n",
       "      <td>389.950012</td>\n",
       "      <td>388.350006</td>\n",
       "      <td>389.045013</td>\n",
       "      <td>389.045013</td>\n",
       "      <td>19915731</td>\n",
       "    </tr>\n",
       "  </tbody>\n",
       "</table>\n",
       "</div>"
      ],
      "text/plain": [
       "                  Open        High         Low       Close   Adj Close  \\\n",
       "Date                                                                     \n",
       "2021-02-02  379.649994  383.220001  376.320007  381.549988  381.549988   \n",
       "2021-02-03  382.440002  383.700012  380.480011  381.850006  381.850006   \n",
       "2021-02-04  382.959991  386.239990  381.970001  386.190002  386.190002   \n",
       "2021-02-05  388.200012  388.470001  386.140015  387.709991  387.709991   \n",
       "2021-02-08  389.269989  389.950012  388.350006  389.045013  389.045013   \n",
       "\n",
       "              Volume  \n",
       "Date                  \n",
       "2021-02-02  64450700  \n",
       "2021-02-03  52427100  \n",
       "2021-02-04  47142600  \n",
       "2021-02-05  48620300  \n",
       "2021-02-08  19915731  "
      ]
     },
     "execution_count": 6,
     "metadata": {},
     "output_type": "execute_result"
    }
   ],
   "source": [
    "df1.head()"
   ]
  },
  {
   "cell_type": "code",
   "execution_count": 8,
   "metadata": {},
   "outputs": [],
   "source": [
    "faang_stocks = ['AAPL', 'AMZN']\n",
    "ohlcv = {symbol: yf.download(symbol, period='250d', progress=False) for symbol in faang_stocks}"
   ]
  },
  {
   "cell_type": "code",
   "execution_count": 9,
   "metadata": {},
   "outputs": [
    {
     "data": {
      "text/plain": [
       "{'AAPL':                   Open        High         Low       Close   Adj Close  \\\n",
       " Date                                                                     \n",
       " 2020-02-12   80.367500   81.805000   80.367500   81.800003   81.170799   \n",
       " 2020-02-13   81.047501   81.555000   80.837502   81.217499   80.592773   \n",
       " 2020-02-14   81.184998   81.495003   80.712502   81.237503   80.612625   \n",
       " 2020-02-18   78.839996   79.937500   78.652496   79.750000   79.136566   \n",
       " 2020-02-19   80.000000   81.142502   80.000000   80.904999   80.282684   \n",
       " ...                ...         ...         ...         ...         ...   \n",
       " 2021-02-02  135.729996  136.309998  134.610001  134.990005  134.788589   \n",
       " 2021-02-03  135.759995  135.770004  133.610001  133.940002  133.740158   \n",
       " 2021-02-04  136.300003  137.399994  134.589996  137.389999  137.184998   \n",
       " 2021-02-05  137.350006  137.419998  135.860001  136.759995  136.759995   \n",
       " 2021-02-08  136.029999  136.899994  134.929993  136.235001  136.235001   \n",
       " \n",
       "                Volume  \n",
       " Date                   \n",
       " 2020-02-12  113730400  \n",
       " 2020-02-13   94747600  \n",
       " 2020-02-14   80113600  \n",
       " 2020-02-18  152531200  \n",
       " 2020-02-19   93984000  \n",
       " ...               ...  \n",
       " 2021-02-02   83305400  \n",
       " 2021-02-03   89880900  \n",
       " 2021-02-04   84183100  \n",
       " 2021-02-05   75524000  \n",
       " 2021-02-08   46700210  \n",
       " \n",
       " [250 rows x 6 columns],\n",
       " 'AMZN':                    Open         High          Low        Close    Adj Close  \\\n",
       " Date                                                                          \n",
       " 2020-02-12  2163.199951  2180.250000  2155.290039  2160.000000  2160.000000   \n",
       " 2020-02-13  2144.989990  2170.280029  2142.000000  2149.870117  2149.870117   \n",
       " 2020-02-14  2155.679932  2159.040039  2125.889893  2134.870117  2134.870117   \n",
       " 2020-02-18  2125.020020  2166.070068  2124.110107  2155.669922  2155.669922   \n",
       " 2020-02-19  2167.800049  2185.100098  2161.120117  2170.219971  2170.219971   \n",
       " ...                 ...          ...          ...          ...          ...   \n",
       " 2021-02-02  3380.000000  3427.739990  3361.129883  3380.000000  3380.000000   \n",
       " 2021-02-03  3425.010010  3434.000000  3308.620117  3312.530029  3312.530029   \n",
       " 2021-02-04  3330.000000  3347.000000  3277.750000  3331.000000  3331.000000   \n",
       " 2021-02-05  3319.000000  3377.000000  3302.709961  3352.149902  3352.149902   \n",
       " 2021-02-08  3358.500000  3365.000000  3304.000000  3309.870117  3309.870117   \n",
       " \n",
       "              Volume  \n",
       " Date                 \n",
       " 2020-02-12  3334300  \n",
       " 2020-02-13  3031800  \n",
       " 2020-02-14  2606200  \n",
       " 2020-02-18  2945600  \n",
       " 2020-02-19  2561200  \n",
       " ...             ...  \n",
       " 2021-02-02  7098600  \n",
       " 2021-02-03  7088800  \n",
       " 2021-02-04  3670700  \n",
       " 2021-02-05  3613600  \n",
       " 2021-02-08  2126061  \n",
       " \n",
       " [250 rows x 6 columns]}"
      ]
     },
     "execution_count": 9,
     "metadata": {},
     "output_type": "execute_result"
    }
   ],
   "source": [
    "ohlcv"
   ]
  },
  {
   "cell_type": "code",
   "execution_count": 11,
   "metadata": {},
   "outputs": [
    {
     "data": {
      "text/plain": [
       "Date\n",
       "2020-02-12    2160.000000\n",
       "2020-02-13    2149.870117\n",
       "2020-02-14    2134.870117\n",
       "2020-02-18    2155.669922\n",
       "2020-02-19    2170.219971\n",
       "                 ...     \n",
       "2021-02-02    3380.000000\n",
       "2021-02-03    3312.530029\n",
       "2021-02-04    3331.000000\n",
       "2021-02-05    3352.149902\n",
       "2021-02-08    3309.870117\n",
       "Name: Adj Close, Length: 250, dtype: float64"
      ]
     },
     "execution_count": 11,
     "metadata": {},
     "output_type": "execute_result"
    }
   ],
   "source": [
    "# Display AMZN adjusted close data\n",
    "ohlcv['AMZN']['Adj Close']"
   ]
  },
  {
   "cell_type": "code",
   "execution_count": null,
   "metadata": {},
   "outputs": [],
   "source": []
  }
 ],
 "metadata": {
  "kernelspec": {
   "display_name": "Python 3.8.2 64-bit",
   "language": "python",
   "name": "python38264bit137608e52d2f43a989a02a039a62eaca"
  },
  "language_info": {
   "codemirror_mode": {
    "name": "ipython",
    "version": 3
   },
   "file_extension": ".py",
   "mimetype": "text/x-python",
   "name": "python",
   "nbconvert_exporter": "python",
   "pygments_lexer": "ipython3",
   "version": "3.8.5"
  }
 },
 "nbformat": 4,
 "nbformat_minor": 4
}
